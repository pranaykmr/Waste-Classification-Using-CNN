{
 "cells": [
  {
   "cell_type": "markdown",
   "metadata": {},
   "source": [
    "## Predict Recyclable or Organic using CNN"
   ]
  },
  {
   "cell_type": "code",
   "execution_count": 1,
   "metadata": {},
   "outputs": [
    {
     "name": "stderr",
     "output_type": "stream",
     "text": [
      "Using TensorFlow backend.\n"
     ]
    }
   ],
   "source": [
    "from keras.models import Model,load_model\n",
    "from sklearn.datasets import load_files\n",
    "import numpy as np"
   ]
  },
  {
   "cell_type": "markdown",
   "metadata": {},
   "source": [
    "Loading the dataset and target labels"
   ]
  },
  {
   "cell_type": "code",
   "execution_count": 2,
   "metadata": {},
   "outputs": [],
   "source": [
    "def getData(location):\n",
    "    df = load_files(location)\n",
    "    filenames = np.array(df['filenames'])\n",
    "    output = np.array(df['target'])\n",
    "    op_labels = np.array(df['target_names'])\n",
    "    return filenames,output,op_labels"
   ]
  },
  {
   "cell_type": "code",
   "execution_count": 3,
   "metadata": {},
   "outputs": [
    {
     "name": "stdout",
     "output_type": "stream",
     "text": [
      "No of training images :  22564\n"
     ]
    }
   ],
   "source": [
    "x_train, y_train, target_labels = getData('./DATASET/TRAIN')\n",
    "print('No of training images : ' , x_train.shape[0])"
   ]
  },
  {
   "cell_type": "code",
   "execution_count": 4,
   "metadata": {},
   "outputs": [
    {
     "name": "stdout",
     "output_type": "stream",
     "text": [
      "No of test images :  2513\n"
     ]
    }
   ],
   "source": [
    "x_test, y_test, test_labels = getData('./DATASET/TEST')\n",
    "print('No of test images : ', x_test.shape[0])"
   ]
  },
  {
   "cell_type": "markdown",
   "metadata": {},
   "source": [
    "Split into test and validation sets keeping 20% for validation"
   ]
  },
  {
   "cell_type": "code",
   "execution_count": 5,
   "metadata": {},
   "outputs": [],
   "source": [
    "from sklearn.model_selection import train_test_split\n",
    "\n",
    "x_train,x_val,y_train,y_val = train_test_split(x_train,y_train,test_size = 0.2,random_state = 1)"
   ]
  },
  {
   "cell_type": "markdown",
   "metadata": {},
   "source": [
    "Transform image into array for easy processing refered from link https://pythonexamples.org/python-opencv-cv2-resize-image/"
   ]
  },
  {
   "cell_type": "code",
   "execution_count": 6,
   "metadata": {},
   "outputs": [],
   "source": [
    "import cv2\n",
    "\n",
    "def transfromImage(files):\n",
    "    w, h = 100, 100\n",
    "    imgArr = np.empty((files.shape[0], w, h, 3), dtype=np.uint8)\n",
    "    for i,f in enumerate(files):\n",
    "        data = cv2.imread(f) \n",
    "        result = cv2.resize(data, dsize=(w, h), interpolation=cv2.INTER_CUBIC)\n",
    "        imgArr[i] = result\n",
    "    return imgArr"
   ]
  },
  {
   "cell_type": "code",
   "execution_count": 7,
   "metadata": {},
   "outputs": [
    {
     "name": "stdout",
     "output_type": "stream",
     "text": [
      "Training set shape :  (18051, 100, 100, 3)\n"
     ]
    }
   ],
   "source": [
    "x_train = np.array(transfromImage(x_train))\n",
    "print('Training set shape : ',x_train.shape)"
   ]
  },
  {
   "cell_type": "code",
   "execution_count": 8,
   "metadata": {},
   "outputs": [
    {
     "name": "stdout",
     "output_type": "stream",
     "text": [
      "Validation set shape :  (4513, 100, 100, 3)\n"
     ]
    }
   ],
   "source": [
    "x_valid = np.array(transfromImage(x_val))\n",
    "print('Validation set shape : ',x_valid.shape)"
   ]
  },
  {
   "cell_type": "code",
   "execution_count": 9,
   "metadata": {},
   "outputs": [
    {
     "name": "stdout",
     "output_type": "stream",
     "text": [
      "Test set shape :  (2513, 100, 100, 3)\n"
     ]
    }
   ],
   "source": [
    "x_test = np.array(transfromImage(x_test))\n",
    "print('Test set shape : ',x_test.shape)"
   ]
  },
  {
   "cell_type": "markdown",
   "metadata": {},
   "source": [
    "Normalize image array"
   ]
  },
  {
   "cell_type": "code",
   "execution_count": 10,
   "metadata": {},
   "outputs": [],
   "source": [
    "x_train = x_train.astype('float32')/255\n",
    "x_valid = x_valid.astype('float32')/255\n",
    "x_test = x_test.astype('float32')/255"
   ]
  },
  {
   "cell_type": "code",
   "execution_count": 11,
   "metadata": {},
   "outputs": [],
   "source": [
    "y_train = y_train.reshape(y_train.shape[0],1)\n",
    "y_test = y_test.reshape(y_test.shape[0],1)\n",
    "y_val = y_val.reshape(y_val.shape[0],1)"
   ]
  },
  {
   "cell_type": "markdown",
   "metadata": {},
   "source": [
    "Using ImageDataGenerator to expand the training dataset in order to improve the performance and ability of the model to generalize.\n",
    "Code referred from https://blog.keras.io/building-powerful-image-classification-models-using-very-little-data.html"
   ]
  },
  {
   "cell_type": "code",
   "execution_count": 12,
   "metadata": {},
   "outputs": [],
   "source": [
    "from keras.preprocessing.image import ImageDataGenerator\n",
    "\n",
    "imgGen = ImageDataGenerator(\n",
    "        featurewise_center=False,\n",
    "        zoom_range = 0.1,\n",
    "        width_shift_range=0.2,\n",
    "        featurewise_std_normalization=False,\n",
    "        samplewise_center=False,\n",
    "        zca_whitening=False,\n",
    "        height_shift_range=0.2,\n",
    "        rotation_range=0,\n",
    "        vertical_flip=False,\n",
    "        horizontal_flip=False, \n",
    "        samplewise_std_normalization=False)\n",
    "\n",
    "imgGen.fit(x_train)"
   ]
  },
  {
   "cell_type": "markdown",
   "metadata": {},
   "source": [
    "Building the model. This model is inspired by the VGG architecture and was referrenced from https://jumba.me/a-comprehensive-hands-on-guide-to-transfer-learning-with-real-world-applications-in-deep-learning/\n",
    "\n",
    "\n",
    "The model was developed as follows, it consits of a Convolution layer followed by a Max- Pooling layer. Then there is another Convolution layer followed by a MaxPooling layer. The MaxPooling layer helps perform dimensionality reduction while still retaining all of the original information. This was then followed by a flatten layer whose job is to convert the multi-dimensional data into a 1-D vector for easier computation. The last two layers are fully connected layers which the last one having 2 nodes each corresponding to one of the classes in the dataset (recyclable , organic).\n",
    "\n",
    "The earlier layers consisting of Convolutional And Pooling layers is often referred to as the feature extractor layers as they extract meaningful and focused information about an image. Pooling combines the outputs of clusters of neurons into a single neuron in the next layer. The last layers are usually the classification layer which are usually made up of fully connected networks which connect every neuron in one layer to every neuron in the next layer."
   ]
  },
  {
   "cell_type": "code",
   "execution_count": 13,
   "metadata": {},
   "outputs": [],
   "source": [
    "from keras.models import Sequential\n",
    "from keras.layers import Conv2D, Activation,Dropout\n",
    "from keras.layers.pooling import MaxPooling2D\n",
    "from keras.layers.core import Flatten, Dense\n",
    "\n",
    "model = Sequential()\n",
    "model.add(Conv2D(32,kernel_size=(3, 3),kernel_initializer='he_normal',activation='relu',input_shape=(100,100,3)))\n",
    "model.add(MaxPooling2D(pool_size=(2, 2)))\n",
    "model.add(Conv2D(32, kernel_size=(3, 3),activation='relu'))\n",
    "model.add(MaxPooling2D(pool_size=(2, 2)))\n",
    "model.add(Dropout(0.2))\n",
    "model.add(Flatten())\n",
    "model.add(Dense(512, activation='relu'))\n",
    "model.add(Dense(2, activation='softmax'))\n",
    "\n",
    "model.compile(loss=\"sparse_categorical_crossentropy\",optimizer='adam',metrics=['accuracy'])"
   ]
  },
  {
   "cell_type": "code",
   "execution_count": 14,
   "metadata": {},
   "outputs": [
    {
     "name": "stdout",
     "output_type": "stream",
     "text": [
      "Model: \"sequential_1\"\n",
      "_________________________________________________________________\n",
      "Layer (type)                 Output Shape              Param #   \n",
      "=================================================================\n",
      "conv2d_1 (Conv2D)            (None, 98, 98, 32)        896       \n",
      "_________________________________________________________________\n",
      "max_pooling2d_1 (MaxPooling2 (None, 49, 49, 32)        0         \n",
      "_________________________________________________________________\n",
      "conv2d_2 (Conv2D)            (None, 47, 47, 32)        9248      \n",
      "_________________________________________________________________\n",
      "max_pooling2d_2 (MaxPooling2 (None, 23, 23, 32)        0         \n",
      "_________________________________________________________________\n",
      "dropout_1 (Dropout)          (None, 23, 23, 32)        0         \n",
      "_________________________________________________________________\n",
      "flatten_1 (Flatten)          (None, 16928)             0         \n",
      "_________________________________________________________________\n",
      "dense_1 (Dense)              (None, 512)               8667648   \n",
      "_________________________________________________________________\n",
      "dense_2 (Dense)              (None, 2)                 1026      \n",
      "=================================================================\n",
      "Total params: 8,678,818\n",
      "Trainable params: 8,678,818\n",
      "Non-trainable params: 0\n",
      "_________________________________________________________________\n"
     ]
    }
   ],
   "source": [
    "model.summary()"
   ]
  },
  {
   "cell_type": "markdown",
   "metadata": {},
   "source": [
    "Define model callbacks and save best model\n",
    "\n",
    "ModelCheckpoint enables us to save the model at a particualr stage in order to reduce the pain of going over the training process again"
   ]
  },
  {
   "cell_type": "code",
   "execution_count": 15,
   "metadata": {},
   "outputs": [],
   "source": [
    "from keras.callbacks import ModelCheckpoint\n",
    "\n",
    "saveModel = ModelCheckpoint(filepath = 'wasteClassificationConv.hdf5', verbose = 1, save_best_only = True)"
   ]
  },
  {
   "cell_type": "markdown",
   "metadata": {},
   "source": [
    "Fit model and keep track of history of accuracy and loss"
   ]
  },
  {
   "cell_type": "code",
   "execution_count": 16,
   "metadata": {},
   "outputs": [
    {
     "name": "stdout",
     "output_type": "stream",
     "text": [
      "Epoch 1/10\n",
      "565/565 [==============================] - 55s 97ms/step - loss: 0.5601 - accuracy: 0.7703 - val_loss: 0.4116 - val_accuracy: 0.8190\n",
      "\n",
      "Epoch 00001: val_loss improved from inf to 0.41163, saving model to wasteClassificationConv.hdf5\n",
      "Epoch 2/10\n",
      "565/565 [==============================] - 51s 91ms/step - loss: 0.4362 - accuracy: 0.8055 - val_loss: 0.4041 - val_accuracy: 0.8176\n",
      "\n",
      "Epoch 00002: val_loss improved from 0.41163 to 0.40415, saving model to wasteClassificationConv.hdf5\n",
      "Epoch 3/10\n",
      "565/565 [==============================] - 52s 93ms/step - loss: 0.4107 - accuracy: 0.8185 - val_loss: 0.3957 - val_accuracy: 0.8261\n",
      "\n",
      "Epoch 00003: val_loss improved from 0.40415 to 0.39570, saving model to wasteClassificationConv.hdf5\n",
      "Epoch 4/10\n",
      "565/565 [==============================] - 52s 91ms/step - loss: 0.3911 - accuracy: 0.8339 - val_loss: 0.4010 - val_accuracy: 0.8187\n",
      "\n",
      "Epoch 00004: val_loss did not improve from 0.39570\n",
      "Epoch 5/10\n",
      "565/565 [==============================] - 54s 96ms/step - loss: 0.3734 - accuracy: 0.8412 - val_loss: 0.3359 - val_accuracy: 0.8608\n",
      "\n",
      "Epoch 00005: val_loss improved from 0.39570 to 0.33587, saving model to wasteClassificationConv.hdf5\n",
      "Epoch 6/10\n",
      "565/565 [==============================] - 53s 94ms/step - loss: 0.3618 - accuracy: 0.8470 - val_loss: 0.3730 - val_accuracy: 0.8369\n",
      "\n",
      "Epoch 00006: val_loss did not improve from 0.33587\n",
      "Epoch 7/10\n",
      "565/565 [==============================] - 52s 92ms/step - loss: 0.3598 - accuracy: 0.8479 - val_loss: 0.3467 - val_accuracy: 0.8495\n",
      "\n",
      "Epoch 00007: val_loss did not improve from 0.33587\n",
      "Epoch 8/10\n",
      "565/565 [==============================] - 52s 93ms/step - loss: 0.3435 - accuracy: 0.8569 - val_loss: 0.3216 - val_accuracy: 0.8686\n",
      "\n",
      "Epoch 00008: val_loss improved from 0.33587 to 0.32162, saving model to wasteClassificationConv.hdf5\n",
      "Epoch 9/10\n",
      "565/565 [==============================] - 53s 94ms/step - loss: 0.3386 - accuracy: 0.8600 - val_loss: 0.3201 - val_accuracy: 0.8688\n",
      "\n",
      "Epoch 00009: val_loss improved from 0.32162 to 0.32009, saving model to wasteClassificationConv.hdf5\n",
      "Epoch 10/10\n",
      "565/565 [==============================] - 52s 93ms/step - loss: 0.3322 - accuracy: 0.8645 - val_loss: 0.3163 - val_accuracy: 0.8699\n",
      "\n",
      "Epoch 00010: val_loss improved from 0.32009 to 0.31635, saving model to wasteClassificationConv.hdf5\n"
     ]
    }
   ],
   "source": [
    "history = model.fit_generator(imgGen.flow(x_train, y_train, batch_size= 32), epochs = 10, callbacks = [saveModel], verbose=1, validation_data=(x_valid,y_val))"
   ]
  },
  {
   "cell_type": "markdown",
   "metadata": {},
   "source": [
    "Accracy vs Epoch Plot\n",
    "\n",
    "Referenced from https://mohitatgithub.github.io/2018-03-28-MNIST-Image-Classification-with-CNN-&-Keras/\n",
    "\n",
    "The model performed reasonably well giving an accuracy of about 85% on both train and test data."
   ]
  },
  {
   "cell_type": "code",
   "execution_count": 17,
   "metadata": {},
   "outputs": [
    {
     "data": {
      "image/png": "[encoded data removed]",
      "text/plain": [
       "<Figure size 432x288 with 1 Axes>"
      ]
     },
     "metadata": {
      "needs_background": "light"
     },
     "output_type": "display_data"
    }
   ],
   "source": [
    "import matplotlib.pyplot as plt\n",
    "\n",
    "plt.plot(history.history['accuracy'])\n",
    "plt.plot(history.history['val_accuracy'])\n",
    "plt.title('Model accuracy')\n",
    "plt.ylabel('Accuracy')\n",
    "plt.xlabel('Epoch')\n",
    "plt.legend(['Train', 'Validate'], loc='upper left')\n",
    "plt.show()"
   ]
  },
  {
   "cell_type": "markdown",
   "metadata": {},
   "source": [
    "Loss vs Epoch Plot"
   ]
  },
  {
   "cell_type": "code",
   "execution_count": 18,
   "metadata": {},
   "outputs": [
    {
     "data": {
      "image/png": "[encoded data removed]",
      "text/plain": [
       "<Figure size 432x288 with 1 Axes>"
      ]
     },
     "metadata": {
      "needs_background": "light"
     },
     "output_type": "display_data"
    }
   ],
   "source": [
    "plt.plot(history.history['loss'])\n",
    "plt.plot(history.history['val_loss'])\n",
    "plt.title('Model loss')\n",
    "plt.ylabel('Loss')\n",
    "plt.xlabel('Epoch')\n",
    "plt.legend(['Train', 'Validate'], loc='upper left')\n",
    "plt.show()"
   ]
  },
  {
   "cell_type": "markdown",
   "metadata": {},
   "source": [
    "Load the best model that was saved earlier"
   ]
  },
  {
   "cell_type": "code",
   "execution_count": 19,
   "metadata": {},
   "outputs": [],
   "source": [
    "model = load_model('wasteClassificationConv.hdf5')\n",
    "model.load_weights('wasteClassificationConv.hdf5')"
   ]
  },
  {
   "cell_type": "markdown",
   "metadata": {},
   "source": [
    "Evaluate the model on test set"
   ]
  },
  {
   "cell_type": "code",
   "execution_count": 20,
   "metadata": {},
   "outputs": [
    {
     "name": "stdout",
     "output_type": "stream",
     "text": [
      "Accuracy : 0.8873856067657471\n"
     ]
    }
   ],
   "source": [
    "score = model.evaluate(x_test,y_test,verbose=0)\n",
    "print('Accuracy :',score[1])"
   ]
  },
  {
   "cell_type": "code",
   "execution_count": 21,
   "metadata": {},
   "outputs": [
    {
     "name": "stdout",
     "output_type": "stream",
     "text": [
      "Loss : 0.2983203093060639\n"
     ]
    }
   ],
   "source": [
    "print('Loss :',score[0])"
   ]
  },
  {
   "cell_type": "code",
   "execution_count": 22,
   "metadata": {},
   "outputs": [],
   "source": [
    "predictions = model.predict_classes(x_test)"
   ]
  },
  {
   "cell_type": "markdown",
   "metadata": {},
   "source": [
    "Plotting the confusion matrix"
   ]
  },
  {
   "cell_type": "code",
   "execution_count": 23,
   "metadata": {},
   "outputs": [
    {
     "data": {
      "text/plain": [
       "Text(0.5, 0, 'Prediction')"
      ]
     },
     "execution_count": 23,
     "metadata": {},
     "output_type": "execute_result"
    },
    {
     "data": {
      "image/png": "[encoded data removed]",
      "text/plain": [
       "<Figure size 432x288 with 2 Axes>"
      ]
     },
     "metadata": {
      "needs_background": "light"
     },
     "output_type": "display_data"
    }
   ],
   "source": [
    "from sklearn.metrics import confusion_matrix\n",
    "import itertools\n",
    "\n",
    "matrix = confusion_matrix(y_test, predictions) \n",
    "\n",
    "plt.imshow(matrix, interpolation='nearest', cmap=plt.cm.GnBu)\n",
    "ticks = np.arange(2)\n",
    "plt.xticks(ticks, ['R','O'])\n",
    "plt.yticks(ticks, ['R','O'])\n",
    "plt.colorbar()\n",
    "thresh = matrix.max() / 2.\n",
    "for i, j in itertools.product(range(matrix.shape[0]), range(matrix.shape[1])):\n",
    "    plt.text(j, i, matrix[i, j],horizontalalignment=\"center\")\n",
    "    \n",
    "plt.ylabel('Actual')\n",
    "plt.xlabel('Prediction')"
   ]
  }
 ],
 "metadata": {
  "kernelspec": {
   "display_name": "Python 3",
   "language": "python",
   "name": "python3"
  },
  "language_info": {
   "codemirror_mode": {
    "name": "ipython",
    "version": 3
   },
   "file_extension": ".py",
   "mimetype": "text/x-python",
   "name": "python",
   "nbconvert_exporter": "python",
   "pygments_lexer": "ipython3",
   "version": "3.7.4"
  }
 },
 "nbformat": 4,
 "nbformat_minor": 4
}
